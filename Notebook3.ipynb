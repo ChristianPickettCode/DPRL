{
 "cells": [
  {
   "cell_type": "code",
   "execution_count": 79,
   "metadata": {},
   "outputs": [
    {
     "name": "stdout",
     "output_type": "stream",
     "text": [
      "| | | | | | | |\n",
      "| | | | | | | |\n",
      "| | | | | | | |\n",
      "| | | | | | | |\n",
      "| | | | | | | |\n",
      "| | | | | | | |\n",
      "+-+-+-+-+-+-+-+\n",
      "| | | | | | | |\n",
      "| | | | | | | |\n",
      "| | | | | | | |\n",
      "| | | | | | | |\n",
      "| | | | | | | |\n",
      "| |X| | | | | |\n",
      "+-+-+-+-+-+-+-+\n",
      "| | | | | | | |\n",
      "| | | | | | | |\n",
      "| | | | | | | |\n",
      "| | | | | | | |\n",
      "| | | | | | | |\n",
      "| |X| |O| | | |\n",
      "+-+-+-+-+-+-+-+\n",
      "| | | | | | | |\n",
      "| | | | | | | |\n",
      "| | | | | | | |\n",
      "| | | | | | | |\n",
      "| | | | | | | |\n",
      "|X|X| |O| | | |\n",
      "+-+-+-+-+-+-+-+\n",
      "| | | | | | | |\n",
      "| | | | | | | |\n",
      "| | | | | | | |\n",
      "| | | | | | | |\n",
      "| | | |O| | | |\n",
      "|X|X| |O| | | |\n",
      "+-+-+-+-+-+-+-+\n",
      "| | | | | | | |\n",
      "| | | | | | | |\n",
      "| | | | | | | |\n",
      "| | | | | | | |\n",
      "| | | |O| | | |\n",
      "|X|X| |O|X| | |\n",
      "+-+-+-+-+-+-+-+\n",
      "| | | | | | | |\n",
      "| | | | | | | |\n",
      "| | | | | | | |\n",
      "| | | | | | | |\n",
      "| | | |O|O| | |\n",
      "|X|X| |O|X| | |\n",
      "+-+-+-+-+-+-+-+\n",
      "| | | | | | | |\n",
      "| | | | | | | |\n",
      "| | | | | | | |\n",
      "| | | | | | | |\n",
      "| | | |O|O| | |\n",
      "|X|X| |O|X|X| |\n",
      "+-+-+-+-+-+-+-+\n",
      "| | | | | | | |\n",
      "| | | | | | | |\n",
      "| | | | | | | |\n",
      "| | | | | | | |\n",
      "| | | |O|O| | |\n",
      "|X|X| |O|X|X|O|\n",
      "+-+-+-+-+-+-+-+\n",
      "| | | | | | | |\n",
      "| | | | | | | |\n",
      "| | | | | | | |\n",
      "| | | | | | | |\n",
      "| | | |O|O|X| |\n",
      "|X|X| |O|X|X|O|\n",
      "+-+-+-+-+-+-+-+\n",
      "| | | | | | | |\n",
      "| | | | | | | |\n",
      "| | | | | | | |\n",
      "| | | | | | | |\n",
      "| |O| |O|O|X| |\n",
      "|X|X| |O|X|X|O|\n",
      "+-+-+-+-+-+-+-+\n",
      "| | | | | | | |\n",
      "| | | | | | | |\n",
      "| | | | | | | |\n",
      "| | | |X| | | |\n",
      "| |O| |O|O|X| |\n",
      "|X|X| |O|X|X|O|\n",
      "+-+-+-+-+-+-+-+\n",
      "| | | | | | | |\n",
      "| | | | | | | |\n",
      "| | | | | | | |\n",
      "| | | |X| | | |\n",
      "| |O| |O|O|X|O|\n",
      "|X|X| |O|X|X|O|\n",
      "+-+-+-+-+-+-+-+\n",
      "| | | | | | | |\n",
      "| | | | | | | |\n",
      "| | | | | | | |\n",
      "| | | |X| | | |\n",
      "| |O| |O|O|X|O|\n",
      "|X|X|X|O|X|X|O|\n",
      "+-+-+-+-+-+-+-+\n",
      "| | | | | | | |\n",
      "| | | | | | | |\n",
      "| | | | | | | |\n",
      "| | | |X| |O| |\n",
      "| |O| |O|O|X|O|\n",
      "|X|X|X|O|X|X|O|\n",
      "+-+-+-+-+-+-+-+\n",
      "| | | | | | | |\n",
      "| | | | | | | |\n",
      "| | | | | |X| |\n",
      "| | | |X| |O| |\n",
      "| |O| |O|O|X|O|\n",
      "|X|X|X|O|X|X|O|\n",
      "+-+-+-+-+-+-+-+\n",
      "| | | | | | | |\n",
      "| | | | | | | |\n",
      "| | | | | |X| |\n",
      "| | | |X|O|O| |\n",
      "| |O| |O|O|X|O|\n",
      "|X|X|X|O|X|X|O|\n",
      "+-+-+-+-+-+-+-+\n",
      "| | | | | | | |\n",
      "| | | | | |X| |\n",
      "| | | | | |X| |\n",
      "| | | |X|O|O| |\n",
      "| |O| |O|O|X|O|\n",
      "|X|X|X|O|X|X|O|\n",
      "+-+-+-+-+-+-+-+\n",
      "| | | | | | | |\n",
      "| | | | | |X| |\n",
      "| | | | | |X| |\n",
      "| | | |X|O|O|O|\n",
      "| |O| |O|O|X|O|\n",
      "|X|X|X|O|X|X|O|\n",
      "+-+-+-+-+-+-+-+\n",
      "| | | | | |X| |\n",
      "| | | | | |X| |\n",
      "| | | | | |X| |\n",
      "| | | |X|O|O|O|\n",
      "| |O| |O|O|X|O|\n",
      "|X|X|X|O|X|X|O|\n",
      "+-+-+-+-+-+-+-+\n",
      "| | | | | |X| |\n",
      "| | | | | |X| |\n",
      "| | | | | |X| |\n",
      "| | | |X|O|O|O|\n",
      "|O|O| |O|O|X|O|\n",
      "|X|X|X|O|X|X|O|\n",
      "+-+-+-+-+-+-+-+\n",
      "| | | | | |X| |\n",
      "| | | | | |X| |\n",
      "| | | | | |X| |\n",
      "| |X| |X|O|O|O|\n",
      "|O|O| |O|O|X|O|\n",
      "|X|X|X|O|X|X|O|\n",
      "+-+-+-+-+-+-+-+\n",
      "| | | | | |X| |\n",
      "| | | | | |X| |\n",
      "| | | | |O|X| |\n",
      "| |X| |X|O|O|O|\n",
      "|O|O| |O|O|X|O|\n",
      "|X|X|X|O|X|X|O|\n",
      "+-+-+-+-+-+-+-+\n",
      "| | | | | |X| |\n",
      "| | | | |X|X| |\n",
      "| | | | |O|X| |\n",
      "| |X| |X|O|O|O|\n",
      "|O|O| |O|O|X|O|\n",
      "|X|X|X|O|X|X|O|\n",
      "+-+-+-+-+-+-+-+\n",
      "| | | | | |X| |\n",
      "| | | | |X|X| |\n",
      "| | | |O|O|X| |\n",
      "| |X| |X|O|O|O|\n",
      "|O|O| |O|O|X|O|\n",
      "|X|X|X|O|X|X|O|\n",
      "+-+-+-+-+-+-+-+\n",
      "| | | | | |X| |\n",
      "| | | | |X|X| |\n",
      "| | | |O|O|X|X|\n",
      "| |X| |X|O|O|O|\n",
      "|O|O| |O|O|X|O|\n",
      "|X|X|X|O|X|X|O|\n",
      "+-+-+-+-+-+-+-+\n",
      "| | | | | |X| |\n",
      "| | | | |X|X| |\n",
      "| |O| |O|O|X|X|\n",
      "| |X| |X|O|O|O|\n",
      "|O|O| |O|O|X|O|\n",
      "|X|X|X|O|X|X|O|\n",
      "+-+-+-+-+-+-+-+\n",
      "| | | | | |X| |\n",
      "| | | | |X|X|X|\n",
      "| |O| |O|O|X|X|\n",
      "| |X| |X|O|O|O|\n",
      "|O|O| |O|O|X|O|\n",
      "|X|X|X|O|X|X|O|\n",
      "+-+-+-+-+-+-+-+\n",
      "| | | | | |X| |\n",
      "| | | |O|X|X|X|\n",
      "| |O| |O|O|X|X|\n",
      "| |X| |X|O|O|O|\n",
      "|O|O| |O|O|X|O|\n",
      "|X|X|X|O|X|X|O|\n",
      "+-+-+-+-+-+-+-+\n",
      "Player O wins!\n"
     ]
    }
   ],
   "source": [
    "import random\n",
    "import copy\n",
    "import numpy as np\n",
    "\n",
    "class Connect4:\n",
    "    def __init__(self):\n",
    "        self.state = np.zeros((6, 7), dtype=int)\n",
    "        self.game_over = False\n",
    "        self.current_player = 1 \n",
    "\n",
    "    def display_board(self):\n",
    "        board = np.where(self.state == 1, 'X', np.where(self.state == -1, 'O', ' '))\n",
    "\n",
    "        for row in board:\n",
    "            print('|' + '|'.join(row) + '|')\n",
    "        \n",
    "        print('+-' * 7 + '+')\n",
    "\n",
    "    def get_legal_moves(self, state):\n",
    "        return [col for col in range(7) if state[0][col] == 0]\n",
    "\n",
    "    def drop_piece(self, column, player):\n",
    "        if not 0 <= column < 7 or self.state[0][column] != 0:\n",
    "            return False\n",
    "\n",
    "        for row in range(5, -1, -1):\n",
    "            if self.state[row][column] == 0:\n",
    "                self.state[row][column] = player\n",
    "                \n",
    "                # Check for win or full board (top row)\n",
    "                if (\n",
    "                    self.check_winner() != 0 \n",
    "                    or not np.any(self.state[0] == 0)\n",
    "                ):\n",
    "                    self.game_over = True\n",
    "                return True\n",
    "        return False\n",
    "\n",
    "    def check_winner(self):\n",
    "        for row in range(6):\n",
    "            for col in range(7):\n",
    "                if self.state[row][col] != 0:\n",
    "                    if self.check_line(row, col, 1, 0) or \\\n",
    "                       self.check_line(row, col, 0, 1) or \\\n",
    "                       self.check_line(row, col, 1, 1) or \\\n",
    "                       self.check_line(row, col, 1, -1):\n",
    "                        return self.state[row][col]\n",
    "        return 0\n",
    "\n",
    "    def check_line(self, start_row, start_col, d_row, d_col):\n",
    "        for i in range(1, 4):\n",
    "            r = start_row + d_row * i\n",
    "            c = start_col + d_col * i\n",
    "            if (\n",
    "                not (0 <= r < 6 and 0 <= c < 7) \n",
    "                or self.state[r][c] != self.state[start_row][start_col]\n",
    "            ):\n",
    "                return False\n",
    "        return True\n",
    "\n",
    "    def switch_player(self):\n",
    "        self.current_player = -self.current_player\n",
    "\n",
    "    def clone(self):\n",
    "        clone = Connect4()\n",
    "        clone.state = np.copy(self.state)\n",
    "        return clone\n",
    "\n",
    "def play_game():\n",
    "    game = Connect4()\n",
    "    mcts = MCTS_Strategy(10, 1)\n",
    "\n",
    "    while not game.game_over:\n",
    "        game.display_board()\n",
    "\n",
    "        if game.current_player == 1:\n",
    "            # move = strategy_player(game)\n",
    "            move = mcts.policy(game)\n",
    "        else:\n",
    "            move = strategy_random_agent(game) \n",
    "            \n",
    "        game.drop_piece(move, game.current_player)\n",
    "        \n",
    "        winner = game.check_winner()\n",
    "        if winner != 0:\n",
    "            game.display_board()\n",
    "            print(f\"Player {'X' if winner == 1 else 'O'} wins!\")\n",
    "            break\n",
    "\n",
    "        # Draw\n",
    "        if not np.any(game.state[0] == 0):  \n",
    "            game.display_board()\n",
    "            print(\"The game is a draw!\")\n",
    "            break\n",
    "\n",
    "        game.switch_player()\n",
    "\n",
    "# Human play against ai ;)\n",
    "def strategy_player(game):\n",
    "    valid_move = False\n",
    "    while not valid_move:\n",
    "        try:\n",
    "            column = int(input(\"Choose a column (0-6): \"))\n",
    "            if column in game.get_legal_moves(game.state):\n",
    "                valid_move = True\n",
    "            else:\n",
    "                print(\"Invalid move. Try again.\")\n",
    "        except ValueError:\n",
    "            print(\"Invalid input. Please enter a number between 0 and 6.\")\n",
    "\n",
    "    return column\n",
    "\n",
    "def strategy_random_agent(game):\n",
    "    legal_moves = game.get_legal_moves(game.state)\n",
    "    if legal_moves:\n",
    "        return random.choice(legal_moves)\n",
    "    else:\n",
    "        return None\n",
    "\n",
    "\n",
    "play_game()\n",
    "\n"
   ]
  },
  {
   "cell_type": "code",
   "execution_count": 78,
   "metadata": {},
   "outputs": [],
   "source": [
    "class Node:\n",
    "    def __init__(self, move=None, parent=None):\n",
    "        self.move = move\n",
    "        self.parent = parent\n",
    "        self.children = []\n",
    "        self.wins = 0\n",
    "        self.visits = 0\n",
    "\n",
    "    def is_leaf(self):\n",
    "        return len(self.children) == 0\n",
    "\n",
    "    def add_child(self, child_node):\n",
    "        self.children.append(child_node)\n",
    "\n",
    "    def update(self, result):\n",
    "        self.visits += 1\n",
    "        self.wins += result\n",
    "\n",
    "    def winrate(self):\n",
    "        return self.wins / self.visits if self.visits > 0 else 0\n",
    "    \n",
    "    # this nodes upper confidence bounds\n",
    "    def ucb(self, c):\n",
    "        # prevent divide by zero\n",
    "        # n_visits = self.visits + 1\n",
    "        # p_visits = self.parent.visits + 1\n",
    "        \n",
    "        if self.visits == 0:\n",
    "            return float('inf')\n",
    "        \n",
    "        exploit = self.wins / n_visits\n",
    "        explore = c * np.sqrt(np.log(self.parent.visits) / (self.visits))\n",
    "        return exploit + explore\n",
    "\n",
    "    def best_move(self):\n",
    "        return max(self.children, key=lambda child: child.winrate())\n",
    "\n",
    "    def expand_node(self, game):\n",
    "        legal_moves = game.get_legal_moves(game.state)\n",
    "        for move in legal_moves:\n",
    "            if not any(child.move == move for child in self.children):\n",
    "                self.add_child(Node(move, self))\n",
    "\n",
    "# Inspired by: \n",
    "# https://webdocs.cs.ualberta.ca/~hayward/396/jem/mcts.html#mcts\n",
    "class MCTS_Strategy:\n",
    "    def __init__(self, computation_budget=10, player=1, c=1.3):\n",
    "        self.computation_budget = computation_budget\n",
    "        self.player = player\n",
    "        self.c = c\n",
    "\n",
    "    def policy(self, game):\n",
    "        root_node = Node(None, None)\n",
    "\n",
    "        for _ in range(self.computation_budget):\n",
    "            game_state = game.clone()\n",
    "            node = root_node\n",
    "\n",
    "            # Selection\n",
    "            while not node.is_leaf():\n",
    "                if node.move is not None:\n",
    "                    game_state.drop_piece(node.move, game_state.current_player)\n",
    "                    game_state.switch_player()\n",
    "                node = self.tree_policy(node, game_state)\n",
    "\n",
    "            # Expansion\n",
    "            node.expand_node(game_state)\n",
    "\n",
    "            # Simulation\n",
    "            result = self.simulation_policy(game_state)\n",
    "\n",
    "            # Backpropagation\n",
    "            while node.parent is not None:\n",
    "                node.update(result)\n",
    "                node = node.parent\n",
    "\n",
    "        return root_node.best_move().move\n",
    "\n",
    "    def tree_policy(self, node, game):\n",
    "        # return random.choice(node.children)\n",
    "        return max(node.children, key=lambda child: child.ucb(self.c))\n",
    "        \n",
    "\n",
    "    def simulation_policy(self, game):\n",
    "        while not game.game_over:\n",
    "            legal_moves = game.get_legal_moves(game.state)\n",
    "            if not legal_moves:\n",
    "                break\n",
    "            move = random.choice(legal_moves)\n",
    "            game.drop_piece(move, game.current_player)\n",
    "            game.switch_player()\n",
    "\n",
    "        winner = game.check_winner()\n",
    "        if winner == self.player:\n",
    "            return 1\n",
    "        elif winner != 0 and winner != self.player:\n",
    "            return -1\n",
    "\n",
    "        return 0\n"
   ]
  },
  {
   "cell_type": "markdown",
   "metadata": {},
   "source": [
    "#### MCTS Visuals (mcts folder implementation)"
   ]
  },
  {
   "cell_type": "code",
   "execution_count": 19,
   "metadata": {},
   "outputs": [],
   "source": [
    "import numpy as np\n",
    "from mcts.connect4 import Connect4\n",
    "from mcts.mcts import MCTS"
   ]
  },
  {
   "cell_type": "code",
   "execution_count": 43,
   "metadata": {},
   "outputs": [],
   "source": [
    "import matplotlib.pyplot as plt\n",
    "import matplotlib.colors as mcolors\n",
    "\n",
    "def display(board, values):\n",
    "    fig, ax = plt.subplots(figsize=[7, 6])\n",
    "    cmap = mcolors.ListedColormap(['green', 'white', 'blue'])\n",
    "    norm = mcolors.BoundaryNorm([-1, -.5, .5, 1], cmap.N)\n",
    "    ax.matshow(board, cmap=cmap, norm=norm)\n",
    "    \n",
    "    for x in range(8):\n",
    "        ax.plot([x - .5, x - .5], [-.5, 5.5], 'k')\n",
    "    for y in range(7):\n",
    "        ax.plot([-.5, 6.5], [y - .5, y - .5], 'k')\n",
    "        \n",
    "    for v in values:\n",
    "        ax.text(v['index'], -1, str(v['val']), ha='center', va='center', fontsize=20, color='black')\n",
    "        \n",
    "    ax.set_axis_off()\n",
    "    plt.show()\n",
    "    plt.close()"
   ]
  },
  {
   "cell_type": "code",
   "execution_count": 77,
   "metadata": {},
   "outputs": [],
   "source": [
    "def single_game():\n",
    "    start_state = np.array(\n",
    "        [\n",
    "            [0, 1, -1, -1, 1, -1, 0],\n",
    "            [0, 1, 1, -1, -1, 1, 0],\n",
    "            [0, -1, -1, -1, 1, -1, 0],\n",
    "            [0, 1, 1, 1, -1, 1, 0],\n",
    "            [0, 1, -1, -1, 1, -1, 0],\n",
    "            [-1, 1, 1, 1, -1, -1, 1],\n",
    "        ]\n",
    "    )\n",
    "\n",
    "    display_actions = [\n",
    "        {'index': 0, 'val': 0.0}, \n",
    "        {'index': 1, 'val': 0.0}, \n",
    "        {'index': 2, 'val': 0.0}, \n",
    "        {'index': 3, 'val': 0.0}, \n",
    "        {'index': 4, 'val': 0.0}, \n",
    "        {'index': 5, 'val': 0.0}, \n",
    "        {'index': 6, 'val': 0.0}\n",
    "    ]\n",
    "\n",
    "    game = Connect4()\n",
    "    game.state = start_state\n",
    "    mcts = MCTS(game)\n",
    "    # display(game.state, display_actions)\n",
    "\n",
    "    done = False\n",
    "    while not done:\n",
    "        best_action = mcts.get_best_action(maxiter=2048)\n",
    "        for action in best_action[1]:\n",
    "            display_actions[action.action]['val'] = round(action.qval, 2)\n",
    "        display(game.state, display_actions)\n",
    "        reward, done = game.step(best_action[0].action)\n",
    "        if done:\n",
    "            if reward > 0:\n",
    "                print('Win')\n",
    "            elif reward < 0:\n",
    "                print('Lose')\n",
    "            else:\n",
    "                print('Draw')\n",
    "            display(game.state, display_actions)"
   ]
  },
  {
   "cell_type": "code",
   "execution_count": 68,
   "metadata": {},
   "outputs": [
    {
     "data": {
      "image/png": "[encoded data removed]",
      "text/plain": [
       "<Figure size 700x600 with 1 Axes>"
      ]
     },
     "metadata": {},
     "output_type": "display_data"
    },
    {
     "data": {
      "image/png": "[encoded data removed]",
      "text/plain": [
       "<Figure size 700x600 with 1 Axes>"
      ]
     },
     "metadata": {},
     "output_type": "display_data"
    },
    {
     "name": "stdout",
     "output_type": "stream",
     "text": [
      "Win\n"
     ]
    },
    {
     "data": {
      "image/png": "[encoded data removed]",
      "text/plain": [
       "<Figure size 700x600 with 1 Axes>"
      ]
     },
     "metadata": {},
     "output_type": "display_data"
    }
   ],
   "source": [
    "single_game()"
   ]
  },
  {
   "cell_type": "code",
   "execution_count": 69,
   "metadata": {},
   "outputs": [
    {
     "data": {
      "image/png": "[encoded data removed]",
      "text/plain": [
       "<Figure size 700x600 with 1 Axes>"
      ]
     },
     "metadata": {},
     "output_type": "display_data"
    },
    {
     "data": {
      "image/png": "[encoded data removed]",
      "text/plain": [
       "<Figure size 700x600 with 1 Axes>"
      ]
     },
     "metadata": {},
     "output_type": "display_data"
    },
    {
     "data": {
      "image/png": "[encoded data removed]",
      "text/plain": [
       "<Figure size 700x600 with 1 Axes>"
      ]
     },
     "metadata": {},
     "output_type": "display_data"
    },
    {
     "data": {
      "image/png": "[encoded data removed]",
      "text/plain": [
       "<Figure size 700x600 with 1 Axes>"
      ]
     },
     "metadata": {},
     "output_type": "display_data"
    },
    {
     "data": {
      "image/png": "[encoded data removed]",
      "text/plain": [
       "<Figure size 700x600 with 1 Axes>"
      ]
     },
     "metadata": {},
     "output_type": "display_data"
    },
    {
     "name": "stdout",
     "output_type": "stream",
     "text": [
      "Draw\n"
     ]
    },
    {
     "data": {
      "image/png": "[encoded data removed]",
      "text/plain": [
       "<Figure size 700x600 with 1 Axes>"
      ]
     },
     "metadata": {},
     "output_type": "display_data"
    }
   ],
   "source": [
    "single_game()"
   ]
  },
  {
   "cell_type": "code",
   "execution_count": 80,
   "metadata": {},
   "outputs": [
    {
     "data": {
      "image/png": "[encoded data removed]",
      "text/plain": [
       "<Figure size 700x600 with 1 Axes>"
      ]
     },
     "metadata": {},
     "output_type": "display_data"
    },
    {
     "data": {
      "image/png": "[encoded data removed]",
      "text/plain": [
       "<Figure size 700x600 with 1 Axes>"
      ]
     },
     "metadata": {},
     "output_type": "display_data"
    },
    {
     "data": {
      "image/png": "[encoded data removed]",
      "text/plain": [
       "<Figure size 700x600 with 1 Axes>"
      ]
     },
     "metadata": {},
     "output_type": "display_data"
    },
    {
     "data": {
      "image/png": "[encoded data removed]",
      "text/plain": [
       "<Figure size 700x600 with 1 Axes>"
      ]
     },
     "metadata": {},
     "output_type": "display_data"
    },
    {
     "name": "stdout",
     "output_type": "stream",
     "text": [
      "Win\n"
     ]
    },
    {
     "data": {
      "image/png": "[encoded data removed]",
      "text/plain": [
       "<Figure size 700x600 with 1 Axes>"
      ]
     },
     "metadata": {},
     "output_type": "display_data"
    }
   ],
   "source": [
    "single_game()"
   ]
  },
  {
   "cell_type": "code",
   "execution_count": null,
   "metadata": {},
   "outputs": [],
   "source": []
  }
 ],
 "metadata": {
  "kernelspec": {
   "display_name": "dl",
   "language": "python",
   "name": "python3"
  },
  "language_info": {
   "codemirror_mode": {
    "name": "ipython",
    "version": 3
   },
   "file_extension": ".py",
   "mimetype": "text/x-python",
   "name": "python",
   "nbconvert_exporter": "python",
   "pygments_lexer": "ipython3",
   "version": "3.11.5"
  }
 },
 "nbformat": 4,
 "nbformat_minor": 2
}
